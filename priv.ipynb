{
 "cells": [
  {
   "cell_type": "code",
   "id": "initial_id",
   "metadata": {
    "collapsed": true,
    "ExecuteTime": {
     "end_time": "2024-05-15T18:29:25.959392Z",
     "start_time": "2024-05-15T18:29:25.927389Z"
    }
   },
   "source": [
    "import pandas as pd\n",
    "import matplotlib.pyplot as plt\n",
    "import seaborn as sns\n",
    "from sklearn.cluster import KMeans\n",
    "from sklearn.preprocessing import StandardScaler"
   ],
   "outputs": [],
   "execution_count": 17
  },
  {
   "metadata": {
    "ExecuteTime": {
     "end_time": "2024-05-15T18:29:26.214383Z",
     "start_time": "2024-05-15T18:29:26.200385Z"
    }
   },
   "cell_type": "code",
   "source": [
    "# оценки качества воды\n",
    "QUALITY = ['High', 'Medium', 'Low', 'Terrible']\n",
    "# столбцы, которые нужно будет преобразовать в числовой формат\n",
    "NUMERIC_COLUMNS = ['Salinity', 'DissolvedOxygen', 'pH', 'SecchiDepth', 'WaterDepth', 'WaterTemp', 'AirTemp']\n",
    "# столбцы для удаления\n",
    "COLUMNS_FOR_DELETE = ['Date']"
   ],
   "id": "924e616b858c9d5",
   "outputs": [],
   "execution_count": 18
  },
  {
   "metadata": {
    "ExecuteTime": {
     "end_time": "2024-05-15T18:29:26.352392Z",
     "start_time": "2024-05-15T18:29:26.292399Z"
    }
   },
   "cell_type": "code",
   "source": "data = pd.read_csv('waterquality.csv')",
   "id": "108096579d6fcc8",
   "outputs": [],
   "execution_count": 19
  },
  {
   "metadata": {
    "ExecuteTime": {
     "end_time": "2024-05-15T18:29:26.382386Z",
     "start_time": "2024-05-15T18:29:26.355393Z"
    }
   },
   "cell_type": "code",
   "source": [
    "# удаляем лишние столбцы\n",
    "for column in COLUMNS_FOR_DELETE:\n",
    "    data = data.drop(column, axis=1)"
   ],
   "id": "babc1df30c3ee77",
   "outputs": [],
   "execution_count": 20
  },
  {
   "metadata": {
    "ExecuteTime": {
     "end_time": "2024-05-15T18:29:26.414384Z",
     "start_time": "2024-05-15T18:29:26.386400Z"
    }
   },
   "cell_type": "code",
   "source": [
    "# заполняем пропуски средними значениями\n",
    "m = data.mean(axis=1)\n",
    "for i, col in enumerate(data):\n",
    "    data.iloc[:, i] = data.iloc[:, i].fillna(m)"
   ],
   "id": "b38d0e39acc95658",
   "outputs": [],
   "execution_count": 21
  },
  {
   "metadata": {
    "ExecuteTime": {
     "end_time": "2024-05-15T18:29:26.477385Z",
     "start_time": "2024-05-15T18:29:26.449387Z"
    }
   },
   "cell_type": "code",
   "source": [
    "# приводим данные к числовому представлению\n",
    "for column in data.columns:\n",
    "    if column in NUMERIC_COLUMNS:\n",
    "        data[column] = pd.to_numeric(data[column])"
   ],
   "id": "c956c007341addc0",
   "outputs": [],
   "execution_count": 22
  },
  {
   "metadata": {
    "ExecuteTime": {
     "end_time": "2024-05-15T18:29:26.541394Z",
     "start_time": "2024-05-15T18:29:26.529385Z"
    }
   },
   "cell_type": "code",
   "source": [
    "# добавляем индексы в датасет\n",
    "data.index = [index for index in range(len(data))]"
   ],
   "id": "69d838412b49a31c",
   "outputs": [],
   "execution_count": 23
  },
  {
   "metadata": {
    "ExecuteTime": {
     "end_time": "2024-05-15T18:29:26.619387Z",
     "start_time": "2024-05-15T18:29:26.590391Z"
    }
   },
   "cell_type": "code",
   "source": "data",
   "id": "6951bb149c7d5161",
   "outputs": [
    {
     "data": {
      "text/plain": [
       "       Salinity  DissolvedOxygen         pH  SecchiDepth  WaterDepth  \\\n",
       "0      1.584444         1.584444   7.500000     0.300000    0.900000   \n",
       "1      9.716667        12.000000   7.500000     0.200000    0.600000   \n",
       "2     11.440000        11.440000   8.000000     0.400000    0.800000   \n",
       "3     12.633333        12.000000   8.000000     0.400000    0.900000   \n",
       "4     13.240000        13.240000   8.500000     0.300000    0.900000   \n",
       "...         ...              ...        ...          ...         ...   \n",
       "2366   0.000000         5.485185   7.000000     0.300000    0.500000   \n",
       "2367 -17.777778       -17.777778 -17.777778   -17.777778  -17.777778   \n",
       "2368   0.000000         3.900000   6.500000     0.300000    1.800000   \n",
       "2369   1.000000         7.951852   7.000000     0.600000    1.000000   \n",
       "2370   0.000000        -8.888889  -8.888889    -8.888889   -8.888889   \n",
       "\n",
       "      WaterTemp    AirTemp  \n",
       "0     17.000000 -17.777778  \n",
       "1     17.500000  20.500000  \n",
       "2     23.000000  25.000000  \n",
       "3     25.500000  29.000000  \n",
       "4     28.500000  28.000000  \n",
       "...         ...        ...  \n",
       "2366  14.000000  11.111111  \n",
       "2367 -17.777778 -17.777778  \n",
       "2368  22.000000  21.111111  \n",
       "2369  17.000000  21.111111  \n",
       "2370  -8.888889 -17.777778  \n",
       "\n",
       "[2371 rows x 7 columns]"
      ],
      "text/html": [
       "<div>\n",
       "<style scoped>\n",
       "    .dataframe tbody tr th:only-of-type {\n",
       "        vertical-align: middle;\n",
       "    }\n",
       "\n",
       "    .dataframe tbody tr th {\n",
       "        vertical-align: top;\n",
       "    }\n",
       "\n",
       "    .dataframe thead th {\n",
       "        text-align: right;\n",
       "    }\n",
       "</style>\n",
       "<table border=\"1\" class=\"dataframe\">\n",
       "  <thead>\n",
       "    <tr style=\"text-align: right;\">\n",
       "      <th></th>\n",
       "      <th>Salinity</th>\n",
       "      <th>DissolvedOxygen</th>\n",
       "      <th>pH</th>\n",
       "      <th>SecchiDepth</th>\n",
       "      <th>WaterDepth</th>\n",
       "      <th>WaterTemp</th>\n",
       "      <th>AirTemp</th>\n",
       "    </tr>\n",
       "  </thead>\n",
       "  <tbody>\n",
       "    <tr>\n",
       "      <th>0</th>\n",
       "      <td>1.584444</td>\n",
       "      <td>1.584444</td>\n",
       "      <td>7.500000</td>\n",
       "      <td>0.300000</td>\n",
       "      <td>0.900000</td>\n",
       "      <td>17.000000</td>\n",
       "      <td>-17.777778</td>\n",
       "    </tr>\n",
       "    <tr>\n",
       "      <th>1</th>\n",
       "      <td>9.716667</td>\n",
       "      <td>12.000000</td>\n",
       "      <td>7.500000</td>\n",
       "      <td>0.200000</td>\n",
       "      <td>0.600000</td>\n",
       "      <td>17.500000</td>\n",
       "      <td>20.500000</td>\n",
       "    </tr>\n",
       "    <tr>\n",
       "      <th>2</th>\n",
       "      <td>11.440000</td>\n",
       "      <td>11.440000</td>\n",
       "      <td>8.000000</td>\n",
       "      <td>0.400000</td>\n",
       "      <td>0.800000</td>\n",
       "      <td>23.000000</td>\n",
       "      <td>25.000000</td>\n",
       "    </tr>\n",
       "    <tr>\n",
       "      <th>3</th>\n",
       "      <td>12.633333</td>\n",
       "      <td>12.000000</td>\n",
       "      <td>8.000000</td>\n",
       "      <td>0.400000</td>\n",
       "      <td>0.900000</td>\n",
       "      <td>25.500000</td>\n",
       "      <td>29.000000</td>\n",
       "    </tr>\n",
       "    <tr>\n",
       "      <th>4</th>\n",
       "      <td>13.240000</td>\n",
       "      <td>13.240000</td>\n",
       "      <td>8.500000</td>\n",
       "      <td>0.300000</td>\n",
       "      <td>0.900000</td>\n",
       "      <td>28.500000</td>\n",
       "      <td>28.000000</td>\n",
       "    </tr>\n",
       "    <tr>\n",
       "      <th>...</th>\n",
       "      <td>...</td>\n",
       "      <td>...</td>\n",
       "      <td>...</td>\n",
       "      <td>...</td>\n",
       "      <td>...</td>\n",
       "      <td>...</td>\n",
       "      <td>...</td>\n",
       "    </tr>\n",
       "    <tr>\n",
       "      <th>2366</th>\n",
       "      <td>0.000000</td>\n",
       "      <td>5.485185</td>\n",
       "      <td>7.000000</td>\n",
       "      <td>0.300000</td>\n",
       "      <td>0.500000</td>\n",
       "      <td>14.000000</td>\n",
       "      <td>11.111111</td>\n",
       "    </tr>\n",
       "    <tr>\n",
       "      <th>2367</th>\n",
       "      <td>-17.777778</td>\n",
       "      <td>-17.777778</td>\n",
       "      <td>-17.777778</td>\n",
       "      <td>-17.777778</td>\n",
       "      <td>-17.777778</td>\n",
       "      <td>-17.777778</td>\n",
       "      <td>-17.777778</td>\n",
       "    </tr>\n",
       "    <tr>\n",
       "      <th>2368</th>\n",
       "      <td>0.000000</td>\n",
       "      <td>3.900000</td>\n",
       "      <td>6.500000</td>\n",
       "      <td>0.300000</td>\n",
       "      <td>1.800000</td>\n",
       "      <td>22.000000</td>\n",
       "      <td>21.111111</td>\n",
       "    </tr>\n",
       "    <tr>\n",
       "      <th>2369</th>\n",
       "      <td>1.000000</td>\n",
       "      <td>7.951852</td>\n",
       "      <td>7.000000</td>\n",
       "      <td>0.600000</td>\n",
       "      <td>1.000000</td>\n",
       "      <td>17.000000</td>\n",
       "      <td>21.111111</td>\n",
       "    </tr>\n",
       "    <tr>\n",
       "      <th>2370</th>\n",
       "      <td>0.000000</td>\n",
       "      <td>-8.888889</td>\n",
       "      <td>-8.888889</td>\n",
       "      <td>-8.888889</td>\n",
       "      <td>-8.888889</td>\n",
       "      <td>-8.888889</td>\n",
       "      <td>-17.777778</td>\n",
       "    </tr>\n",
       "  </tbody>\n",
       "</table>\n",
       "<p>2371 rows × 7 columns</p>\n",
       "</div>"
      ]
     },
     "execution_count": 24,
     "metadata": {},
     "output_type": "execute_result"
    }
   ],
   "execution_count": 24
  },
  {
   "metadata": {
    "ExecuteTime": {
     "end_time": "2024-05-15T18:29:26.682385Z",
     "start_time": "2024-05-15T18:29:26.650389Z"
    }
   },
   "cell_type": "code",
   "source": [
    "# масштабирование данных\n",
    "scaler = StandardScaler()\n",
    "scaled_data = scaler.fit_transform(data)"
   ],
   "id": "213984c92053a66e",
   "outputs": [],
   "execution_count": 25
  },
  {
   "metadata": {
    "ExecuteTime": {
     "end_time": "2024-05-15T18:29:26.698385Z",
     "start_time": "2024-05-15T18:29:26.687388Z"
    }
   },
   "cell_type": "code",
   "source": "inertia = []",
   "id": "da6753716bec0ffe",
   "outputs": [],
   "execution_count": 26
  },
  {
   "metadata": {
    "ExecuteTime": {
     "end_time": "2024-05-15T18:29:27.389120Z",
     "start_time": "2024-05-15T18:29:26.725387Z"
    }
   },
   "cell_type": "code",
   "source": [
    "# строим график зависимости инерции от количества кластеров\n",
    "for i in range(1, 11):\n",
    "    k_means = KMeans(n_clusters=i, init='k-means++', n_init=10)\n",
    "    k_means.fit(scaled_data)\n",
    "    inertia.append(k_means.inertia_)"
   ],
   "id": "c18f013e95758067",
   "outputs": [],
   "execution_count": 27
  },
  {
   "metadata": {
    "ExecuteTime": {
     "end_time": "2024-05-15T18:29:27.830041Z",
     "start_time": "2024-05-15T18:29:27.394050Z"
    }
   },
   "cell_type": "code",
   "source": [
    "sns.set_style('darkgrid')\n",
    "sns.scatterplot(\n",
    "    x=[x for x in range(1, 11)],\n",
    "    y=inertia,\n",
    ")\n",
    "\n",
    "plt.title('График зависимости')\n",
    "plt.xlabel('Количество кластеров')\n",
    "plt.ylabel('Внутри-кластерная сумма расстояний')"
   ],
   "id": "be4343f9a276ecce",
   "outputs": [
    {
     "data": {
      "text/plain": [
       "Text(0, 0.5, 'Внутри-кластерная сумма расстояний')"
      ]
     },
     "execution_count": 28,
     "metadata": {},
     "output_type": "execute_result"
    },
    {
     "data": {
      "text/plain": [
       "<Figure size 640x480 with 1 Axes>"
      ],
      "image/png": "[encoded data removed]"
     },
     "metadata": {},
     "output_type": "display_data"
    }
   ],
   "execution_count": 28
  },
  {
   "metadata": {},
   "cell_type": "markdown",
   "source": "с помощью метода локтя можно сделать вывод о том, что оптимальное количество кластеров равно 4, так как изгиб проходит именно в этом месте",
   "id": "dabf3213e3696f5f"
  },
  {
   "metadata": {
    "ExecuteTime": {
     "end_time": "2024-05-15T18:29:27.846054Z",
     "start_time": "2024-05-15T18:29:27.833045Z"
    }
   },
   "cell_type": "code",
   "source": [
    "# создаём модель методом k средних\n",
    "model = KMeans(n_clusters=4, n_init=10)"
   ],
   "id": "9b6eaef81a60594c",
   "outputs": [],
   "execution_count": 29
  },
  {
   "metadata": {
    "ExecuteTime": {
     "end_time": "2024-05-15T18:29:27.926056Z",
     "start_time": "2024-05-15T18:29:27.849052Z"
    }
   },
   "cell_type": "code",
   "source": [
    "# обучаем модель\n",
    "model.fit(scaled_data)"
   ],
   "id": "7d8ea5f99081874b",
   "outputs": [
    {
     "data": {
      "text/plain": [
       "KMeans(n_clusters=4, n_init=10)"
      ],
      "text/html": [
       "<style>#sk-container-id-2 {color: black;}#sk-container-id-2 pre{padding: 0;}#sk-container-id-2 div.sk-toggleable {background-color: white;}#sk-container-id-2 label.sk-toggleable__label {cursor: pointer;display: block;width: 100%;margin-bottom: 0;padding: 0.3em;box-sizing: border-box;text-align: center;}#sk-container-id-2 label.sk-toggleable__label-arrow:before {content: \"▸\";float: left;margin-right: 0.25em;color: #696969;}#sk-container-id-2 label.sk-toggleable__label-arrow:hover:before {color: black;}#sk-container-id-2 div.sk-estimator:hover label.sk-toggleable__label-arrow:before {color: black;}#sk-container-id-2 div.sk-toggleable__content {max-height: 0;max-width: 0;overflow: hidden;text-align: left;background-color: #f0f8ff;}#sk-container-id-2 div.sk-toggleable__content pre {margin: 0.2em;color: black;border-radius: 0.25em;background-color: #f0f8ff;}#sk-container-id-2 input.sk-toggleable__control:checked~div.sk-toggleable__content {max-height: 200px;max-width: 100%;overflow: auto;}#sk-container-id-2 input.sk-toggleable__control:checked~label.sk-toggleable__label-arrow:before {content: \"▾\";}#sk-container-id-2 div.sk-estimator input.sk-toggleable__control:checked~label.sk-toggleable__label {background-color: #d4ebff;}#sk-container-id-2 div.sk-label input.sk-toggleable__control:checked~label.sk-toggleable__label {background-color: #d4ebff;}#sk-container-id-2 input.sk-hidden--visually {border: 0;clip: rect(1px 1px 1px 1px);clip: rect(1px, 1px, 1px, 1px);height: 1px;margin: -1px;overflow: hidden;padding: 0;position: absolute;width: 1px;}#sk-container-id-2 div.sk-estimator {font-family: monospace;background-color: #f0f8ff;border: 1px dotted black;border-radius: 0.25em;box-sizing: border-box;margin-bottom: 0.5em;}#sk-container-id-2 div.sk-estimator:hover {background-color: #d4ebff;}#sk-container-id-2 div.sk-parallel-item::after {content: \"\";width: 100%;border-bottom: 1px solid gray;flex-grow: 1;}#sk-container-id-2 div.sk-label:hover label.sk-toggleable__label {background-color: #d4ebff;}#sk-container-id-2 div.sk-serial::before {content: \"\";position: absolute;border-left: 1px solid gray;box-sizing: border-box;top: 0;bottom: 0;left: 50%;z-index: 0;}#sk-container-id-2 div.sk-serial {display: flex;flex-direction: column;align-items: center;background-color: white;padding-right: 0.2em;padding-left: 0.2em;position: relative;}#sk-container-id-2 div.sk-item {position: relative;z-index: 1;}#sk-container-id-2 div.sk-parallel {display: flex;align-items: stretch;justify-content: center;background-color: white;position: relative;}#sk-container-id-2 div.sk-item::before, #sk-container-id-2 div.sk-parallel-item::before {content: \"\";position: absolute;border-left: 1px solid gray;box-sizing: border-box;top: 0;bottom: 0;left: 50%;z-index: -1;}#sk-container-id-2 div.sk-parallel-item {display: flex;flex-direction: column;z-index: 1;position: relative;background-color: white;}#sk-container-id-2 div.sk-parallel-item:first-child::after {align-self: flex-end;width: 50%;}#sk-container-id-2 div.sk-parallel-item:last-child::after {align-self: flex-start;width: 50%;}#sk-container-id-2 div.sk-parallel-item:only-child::after {width: 0;}#sk-container-id-2 div.sk-dashed-wrapped {border: 1px dashed gray;margin: 0 0.4em 0.5em 0.4em;box-sizing: border-box;padding-bottom: 0.4em;background-color: white;}#sk-container-id-2 div.sk-label label {font-family: monospace;font-weight: bold;display: inline-block;line-height: 1.2em;}#sk-container-id-2 div.sk-label-container {text-align: center;}#sk-container-id-2 div.sk-container {/* jupyter's `normalize.less` sets `[hidden] { display: none; }` but bootstrap.min.css set `[hidden] { display: none !important; }` so we also need the `!important` here to be able to override the default hidden behavior on the sphinx rendered scikit-learn.org. See: https://github.com/scikit-learn/scikit-learn/issues/21755 */display: inline-block !important;position: relative;}#sk-container-id-2 div.sk-text-repr-fallback {display: none;}</style><div id=\"sk-container-id-2\" class=\"sk-top-container\"><div class=\"sk-text-repr-fallback\"><pre>KMeans(n_clusters=4, n_init=10)</pre><b>In a Jupyter environment, please rerun this cell to show the HTML representation or trust the notebook. <br />On GitHub, the HTML representation is unable to render, please try loading this page with nbviewer.org.</b></div><div class=\"sk-container\" hidden><div class=\"sk-item\"><div class=\"sk-estimator sk-toggleable\"><input class=\"sk-toggleable__control sk-hidden--visually\" id=\"sk-estimator-id-2\" type=\"checkbox\" checked><label for=\"sk-estimator-id-2\" class=\"sk-toggleable__label sk-toggleable__label-arrow\">KMeans</label><div class=\"sk-toggleable__content\"><pre>KMeans(n_clusters=4, n_init=10)</pre></div></div></div></div></div>"
      ]
     },
     "execution_count": 30,
     "metadata": {},
     "output_type": "execute_result"
    }
   ],
   "execution_count": 30
  },
  {
   "metadata": {
    "ExecuteTime": {
     "end_time": "2024-05-15T18:29:27.942048Z",
     "start_time": "2024-05-15T18:29:27.930061Z"
    }
   },
   "cell_type": "code",
   "source": [
    "# добавляем метки кластеров\n",
    "data['Cluster'] = model.labels_"
   ],
   "id": "8c9be3983327544a",
   "outputs": [],
   "execution_count": 31
  },
  {
   "metadata": {
    "ExecuteTime": {
     "end_time": "2024-05-15T18:29:27.972046Z",
     "start_time": "2024-05-15T18:29:27.945049Z"
    }
   },
   "cell_type": "code",
   "source": "data",
   "id": "494ebdd23f8b6eb4",
   "outputs": [
    {
     "data": {
      "text/plain": [
       "       Salinity  DissolvedOxygen         pH  SecchiDepth  WaterDepth  \\\n",
       "0      1.584444         1.584444   7.500000     0.300000    0.900000   \n",
       "1      9.716667        12.000000   7.500000     0.200000    0.600000   \n",
       "2     11.440000        11.440000   8.000000     0.400000    0.800000   \n",
       "3     12.633333        12.000000   8.000000     0.400000    0.900000   \n",
       "4     13.240000        13.240000   8.500000     0.300000    0.900000   \n",
       "...         ...              ...        ...          ...         ...   \n",
       "2366   0.000000         5.485185   7.000000     0.300000    0.500000   \n",
       "2367 -17.777778       -17.777778 -17.777778   -17.777778  -17.777778   \n",
       "2368   0.000000         3.900000   6.500000     0.300000    1.800000   \n",
       "2369   1.000000         7.951852   7.000000     0.600000    1.000000   \n",
       "2370   0.000000        -8.888889  -8.888889    -8.888889   -8.888889   \n",
       "\n",
       "      WaterTemp    AirTemp  Cluster  \n",
       "0     17.000000 -17.777778        1  \n",
       "1     17.500000  20.500000        0  \n",
       "2     23.000000  25.000000        0  \n",
       "3     25.500000  29.000000        0  \n",
       "4     28.500000  28.000000        0  \n",
       "...         ...        ...      ...  \n",
       "2366  14.000000  11.111111        1  \n",
       "2367 -17.777778 -17.777778        3  \n",
       "2368  22.000000  21.111111        0  \n",
       "2369  17.000000  21.111111        0  \n",
       "2370  -8.888889 -17.777778        3  \n",
       "\n",
       "[2371 rows x 8 columns]"
      ],
      "text/html": [
       "<div>\n",
       "<style scoped>\n",
       "    .dataframe tbody tr th:only-of-type {\n",
       "        vertical-align: middle;\n",
       "    }\n",
       "\n",
       "    .dataframe tbody tr th {\n",
       "        vertical-align: top;\n",
       "    }\n",
       "\n",
       "    .dataframe thead th {\n",
       "        text-align: right;\n",
       "    }\n",
       "</style>\n",
       "<table border=\"1\" class=\"dataframe\">\n",
       "  <thead>\n",
       "    <tr style=\"text-align: right;\">\n",
       "      <th></th>\n",
       "      <th>Salinity</th>\n",
       "      <th>DissolvedOxygen</th>\n",
       "      <th>pH</th>\n",
       "      <th>SecchiDepth</th>\n",
       "      <th>WaterDepth</th>\n",
       "      <th>WaterTemp</th>\n",
       "      <th>AirTemp</th>\n",
       "      <th>Cluster</th>\n",
       "    </tr>\n",
       "  </thead>\n",
       "  <tbody>\n",
       "    <tr>\n",
       "      <th>0</th>\n",
       "      <td>1.584444</td>\n",
       "      <td>1.584444</td>\n",
       "      <td>7.500000</td>\n",
       "      <td>0.300000</td>\n",
       "      <td>0.900000</td>\n",
       "      <td>17.000000</td>\n",
       "      <td>-17.777778</td>\n",
       "      <td>1</td>\n",
       "    </tr>\n",
       "    <tr>\n",
       "      <th>1</th>\n",
       "      <td>9.716667</td>\n",
       "      <td>12.000000</td>\n",
       "      <td>7.500000</td>\n",
       "      <td>0.200000</td>\n",
       "      <td>0.600000</td>\n",
       "      <td>17.500000</td>\n",
       "      <td>20.500000</td>\n",
       "      <td>0</td>\n",
       "    </tr>\n",
       "    <tr>\n",
       "      <th>2</th>\n",
       "      <td>11.440000</td>\n",
       "      <td>11.440000</td>\n",
       "      <td>8.000000</td>\n",
       "      <td>0.400000</td>\n",
       "      <td>0.800000</td>\n",
       "      <td>23.000000</td>\n",
       "      <td>25.000000</td>\n",
       "      <td>0</td>\n",
       "    </tr>\n",
       "    <tr>\n",
       "      <th>3</th>\n",
       "      <td>12.633333</td>\n",
       "      <td>12.000000</td>\n",
       "      <td>8.000000</td>\n",
       "      <td>0.400000</td>\n",
       "      <td>0.900000</td>\n",
       "      <td>25.500000</td>\n",
       "      <td>29.000000</td>\n",
       "      <td>0</td>\n",
       "    </tr>\n",
       "    <tr>\n",
       "      <th>4</th>\n",
       "      <td>13.240000</td>\n",
       "      <td>13.240000</td>\n",
       "      <td>8.500000</td>\n",
       "      <td>0.300000</td>\n",
       "      <td>0.900000</td>\n",
       "      <td>28.500000</td>\n",
       "      <td>28.000000</td>\n",
       "      <td>0</td>\n",
       "    </tr>\n",
       "    <tr>\n",
       "      <th>...</th>\n",
       "      <td>...</td>\n",
       "      <td>...</td>\n",
       "      <td>...</td>\n",
       "      <td>...</td>\n",
       "      <td>...</td>\n",
       "      <td>...</td>\n",
       "      <td>...</td>\n",
       "      <td>...</td>\n",
       "    </tr>\n",
       "    <tr>\n",
       "      <th>2366</th>\n",
       "      <td>0.000000</td>\n",
       "      <td>5.485185</td>\n",
       "      <td>7.000000</td>\n",
       "      <td>0.300000</td>\n",
       "      <td>0.500000</td>\n",
       "      <td>14.000000</td>\n",
       "      <td>11.111111</td>\n",
       "      <td>1</td>\n",
       "    </tr>\n",
       "    <tr>\n",
       "      <th>2367</th>\n",
       "      <td>-17.777778</td>\n",
       "      <td>-17.777778</td>\n",
       "      <td>-17.777778</td>\n",
       "      <td>-17.777778</td>\n",
       "      <td>-17.777778</td>\n",
       "      <td>-17.777778</td>\n",
       "      <td>-17.777778</td>\n",
       "      <td>3</td>\n",
       "    </tr>\n",
       "    <tr>\n",
       "      <th>2368</th>\n",
       "      <td>0.000000</td>\n",
       "      <td>3.900000</td>\n",
       "      <td>6.500000</td>\n",
       "      <td>0.300000</td>\n",
       "      <td>1.800000</td>\n",
       "      <td>22.000000</td>\n",
       "      <td>21.111111</td>\n",
       "      <td>0</td>\n",
       "    </tr>\n",
       "    <tr>\n",
       "      <th>2369</th>\n",
       "      <td>1.000000</td>\n",
       "      <td>7.951852</td>\n",
       "      <td>7.000000</td>\n",
       "      <td>0.600000</td>\n",
       "      <td>1.000000</td>\n",
       "      <td>17.000000</td>\n",
       "      <td>21.111111</td>\n",
       "      <td>0</td>\n",
       "    </tr>\n",
       "    <tr>\n",
       "      <th>2370</th>\n",
       "      <td>0.000000</td>\n",
       "      <td>-8.888889</td>\n",
       "      <td>-8.888889</td>\n",
       "      <td>-8.888889</td>\n",
       "      <td>-8.888889</td>\n",
       "      <td>-8.888889</td>\n",
       "      <td>-17.777778</td>\n",
       "      <td>3</td>\n",
       "    </tr>\n",
       "  </tbody>\n",
       "</table>\n",
       "<p>2371 rows × 8 columns</p>\n",
       "</div>"
      ]
     },
     "execution_count": 32,
     "metadata": {},
     "output_type": "execute_result"
    }
   ],
   "execution_count": 32
  },
  {
   "metadata": {},
   "cell_type": "markdown",
   "source": "теперь в датасете есть столбец, указывающий, к какому кластеру относится конкретная точка, значит мы всё сделали добре",
   "id": "4ab4048042fd1476"
  }
 ],
 "metadata": {
  "kernelspec": {
   "display_name": "Python 3",
   "language": "python",
   "name": "python3"
  },
  "language_info": {
   "codemirror_mode": {
    "name": "ipython",
    "version": 2
   },
   "file_extension": ".py",
   "mimetype": "text/x-python",
   "name": "python",
   "nbconvert_exporter": "python",
   "pygments_lexer": "ipython2",
   "version": "2.7.6"
  }
 },
 "nbformat": 4,
 "nbformat_minor": 5
}
